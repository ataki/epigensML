{
 "metadata": {
  "name": "",
  "signature": "sha256:082d5f0144a14e0b889d9afc9e63d6af0ad653d814fedbcdf892bb167319a2ca"
 },
 "nbformat": 3,
 "nbformat_minor": 0,
 "worksheets": [
  {
   "cells": [
    {
     "cell_type": "code",
     "collapsed": false,
     "input": [
      "from Bio import SeqIO\n",
      "f = open(\"./data/fasta/human_regions.fasta\")\n",
      "fasta = [x for x in SeqIO.parse(f, \"fasta\")]\n",
      "print len(fasta)"
     ],
     "language": "python",
     "metadata": {},
     "outputs": []
    }
   ],
   "metadata": {}
  }
 ]
}